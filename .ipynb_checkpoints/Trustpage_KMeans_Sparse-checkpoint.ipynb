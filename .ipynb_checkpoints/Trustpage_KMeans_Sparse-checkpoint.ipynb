{
 "cells": [
  {
   "cell_type": "markdown",
   "metadata": {},
   "source": [
    "# Unsupervised Sentiment Analysis - KMeans Sparse"
   ]
  },
  {
   "cell_type": "code",
   "execution_count": 1,
   "metadata": {},
   "outputs": [],
   "source": [
    "import numpy as np\n",
    "import pandas as pd\n",
    "import matplotlib.pyplot as plt\n",
    "%matplotlib inline\n",
    "import re"
   ]
  },
  {
   "cell_type": "markdown",
   "metadata": {},
   "source": [
    "## Preprocessing the data"
   ]
  },
  {
   "cell_type": "code",
   "execution_count": 2,
   "metadata": {},
   "outputs": [],
   "source": [
    "address = '.\\IMDB_Dataset.csv'"
   ]
  },
  {
   "cell_type": "code",
   "execution_count": 3,
   "metadata": {},
   "outputs": [],
   "source": [
    "imdb = pd.read_csv(address)"
   ]
  },
  {
   "cell_type": "code",
   "execution_count": 4,
   "metadata": {},
   "outputs": [
    {
     "data": {
      "text/html": [
       "<div>\n",
       "<style scoped>\n",
       "    .dataframe tbody tr th:only-of-type {\n",
       "        vertical-align: middle;\n",
       "    }\n",
       "\n",
       "    .dataframe tbody tr th {\n",
       "        vertical-align: top;\n",
       "    }\n",
       "\n",
       "    .dataframe thead th {\n",
       "        text-align: right;\n",
       "    }\n",
       "</style>\n",
       "<table border=\"1\" class=\"dataframe\">\n",
       "  <thead>\n",
       "    <tr style=\"text-align: right;\">\n",
       "      <th></th>\n",
       "      <th>review</th>\n",
       "      <th>sentiment</th>\n",
       "    </tr>\n",
       "  </thead>\n",
       "  <tbody>\n",
       "    <tr>\n",
       "      <th>0</th>\n",
       "      <td>One of the other reviewers has mentioned that ...</td>\n",
       "      <td>positive</td>\n",
       "    </tr>\n",
       "    <tr>\n",
       "      <th>1</th>\n",
       "      <td>A wonderful little production. &lt;br /&gt;&lt;br /&gt;The...</td>\n",
       "      <td>positive</td>\n",
       "    </tr>\n",
       "    <tr>\n",
       "      <th>2</th>\n",
       "      <td>I thought this was a wonderful way to spend ti...</td>\n",
       "      <td>positive</td>\n",
       "    </tr>\n",
       "    <tr>\n",
       "      <th>3</th>\n",
       "      <td>Basically there's a family where a little boy ...</td>\n",
       "      <td>negative</td>\n",
       "    </tr>\n",
       "    <tr>\n",
       "      <th>4</th>\n",
       "      <td>Petter Mattei's \"Love in the Time of Money\" is...</td>\n",
       "      <td>positive</td>\n",
       "    </tr>\n",
       "  </tbody>\n",
       "</table>\n",
       "</div>"
      ],
      "text/plain": [
       "                                              review sentiment\n",
       "0  One of the other reviewers has mentioned that ...  positive\n",
       "1  A wonderful little production. <br /><br />The...  positive\n",
       "2  I thought this was a wonderful way to spend ti...  positive\n",
       "3  Basically there's a family where a little boy ...  negative\n",
       "4  Petter Mattei's \"Love in the Time of Money\" is...  positive"
      ]
     },
     "execution_count": 4,
     "metadata": {},
     "output_type": "execute_result"
    }
   ],
   "source": [
    "imdb.head(5)"
   ]
  },
  {
   "cell_type": "markdown",
   "metadata": {},
   "source": [
    "### Data cleaning steps\n"
   ]
  },
  {
   "cell_type": "code",
   "execution_count": 5,
   "metadata": {},
   "outputs": [],
   "source": [
    "def text_to_word_list(text):\n",
    "    text = str(text)\n",
    "    text = text.lower()\n",
    "    text = re.sub('<[^<]+?>', '', text)\n",
    "    text = re.sub(r\"[^A-Za-z0-9^,!.\\/'+-=]\", \" \", text)\n",
    "    text = re.sub(r\"what's\", \"what is \", text)\n",
    "    text = re.sub(r\"\\'s\", \" \", text)\n",
    "    text = re.sub(r\"\\'ve\", \" have \", text)\n",
    "    text = re.sub(r\"can't\", \"cannot \", text)\n",
    "    text = re.sub(r\"n't\", \" not \", text)\n",
    "    text = re.sub(r\"i'm\", \"i am \", text)\n",
    "    text = re.sub(r\"\\'re\", \" are \", text)\n",
    "    text = re.sub(r\"\\'d\", \" would \", text)\n",
    "    text = re.sub(r\"\\'ll\", \" will \", text)\n",
    "    text = re.sub(r\",\", \" \", text)\n",
    "    text = re.sub(r\"\\.\", \" \", text)\n",
    "    text = re.sub(r\"!\", \" ! \", text)\n",
    "    text = re.sub(r\"\\/\", \" \", text)\n",
    "    text = re.sub(r\"\\^\", \" ^ \", text)\n",
    "    text = re.sub(r\"\\+\", \" + \", text)\n",
    "    text = re.sub(r\"\\-\", \" - \", text)\n",
    "    text = re.sub(r\"\\=\", \" = \", text)\n",
    "    text = re.sub(r\"'\", \" \", text)\n",
    "    text = re.sub(r\"(\\d+)(k)\", r\"\\g<1>000\", text)\n",
    "    text = re.sub(r\":\", \" : \", text)\n",
    "    text = re.sub(r\" e g \", \" eg \", text)\n",
    "    text = re.sub(r\" b g \", \" bg \", text)\n",
    "    text = re.sub(r\" u s \", \" american \", text)\n",
    "    text = re.sub(r\"\\0s\", \"0\", text)\n",
    "    text = re.sub(r\" 9 11 \", \"911\", text)\n",
    "    text = re.sub(r\"e - mail\", \"email\", text)\n",
    "    text = re.sub(r\"j k\", \"jk\", text)\n",
    "    text = re.sub(r\"\\s{2,}\", \" \", text)\n",
    "    text = text.split()\n",
    "    text = str(text)\n",
    "    return text"
   ]
  },
  {
   "cell_type": "code",
   "execution_count": 6,
   "metadata": {},
   "outputs": [],
   "source": [
    "# dropping NAN and duplicates from the data\n",
    "imdb_trimmed = imdb.dropna().drop_duplicates().reset_index(drop=True)"
   ]
  },
  {
   "cell_type": "code",
   "execution_count": 7,
   "metadata": {},
   "outputs": [],
   "source": [
    "#applying the text prep to the review column\n",
    "imdb_trimmed.review = imdb_trimmed.review.apply(lambda x: text_to_word_list(x))"
   ]
  },
  {
   "cell_type": "code",
   "execution_count": 8,
   "metadata": {},
   "outputs": [
    {
     "data": {
      "text/html": [
       "<div>\n",
       "<style scoped>\n",
       "    .dataframe tbody tr th:only-of-type {\n",
       "        vertical-align: middle;\n",
       "    }\n",
       "\n",
       "    .dataframe tbody tr th {\n",
       "        vertical-align: top;\n",
       "    }\n",
       "\n",
       "    .dataframe thead th {\n",
       "        text-align: right;\n",
       "    }\n",
       "</style>\n",
       "<table border=\"1\" class=\"dataframe\">\n",
       "  <thead>\n",
       "    <tr style=\"text-align: right;\">\n",
       "      <th></th>\n",
       "      <th>review</th>\n",
       "      <th>sentiment</th>\n",
       "    </tr>\n",
       "  </thead>\n",
       "  <tbody>\n",
       "    <tr>\n",
       "      <th>0</th>\n",
       "      <td>['one', 'of', 'the', 'other', 'reviewers', 'ha...</td>\n",
       "      <td>1</td>\n",
       "    </tr>\n",
       "    <tr>\n",
       "      <th>1</th>\n",
       "      <td>['a', 'wonderful', 'little', 'production', 'th...</td>\n",
       "      <td>1</td>\n",
       "    </tr>\n",
       "    <tr>\n",
       "      <th>2</th>\n",
       "      <td>['i', 'thought', 'this', 'was', 'a', 'wonderfu...</td>\n",
       "      <td>1</td>\n",
       "    </tr>\n",
       "    <tr>\n",
       "      <th>3</th>\n",
       "      <td>['basically', 'there', 'a', 'family', 'where',...</td>\n",
       "      <td>0</td>\n",
       "    </tr>\n",
       "    <tr>\n",
       "      <th>4</th>\n",
       "      <td>['petter', 'mattei', 'love', 'in', 'the', 'tim...</td>\n",
       "      <td>1</td>\n",
       "    </tr>\n",
       "  </tbody>\n",
       "</table>\n",
       "</div>"
      ],
      "text/plain": [
       "                                              review  sentiment\n",
       "0  ['one', 'of', 'the', 'other', 'reviewers', 'ha...          1\n",
       "1  ['a', 'wonderful', 'little', 'production', 'th...          1\n",
       "2  ['i', 'thought', 'this', 'was', 'a', 'wonderfu...          1\n",
       "3  ['basically', 'there', 'a', 'family', 'where',...          0\n",
       "4  ['petter', 'mattei', 'love', 'in', 'the', 'tim...          1"
      ]
     },
     "execution_count": 8,
     "metadata": {},
     "output_type": "execute_result"
    }
   ],
   "source": [
    "# creating label for sentiment for future evaluation\n",
    "imdb_trimmed['sentiment'] = imdb_trimmed['sentiment'].map({'positive':1,'negative':0})\n",
    "imdb_trimmed.head()"
   ]
  },
  {
   "cell_type": "markdown",
   "metadata": {},
   "source": [
    "## Modeling - Applying KMeans Clustering "
   ]
  },
  {
   "cell_type": "markdown",
   "metadata": {},
   "source": [
    "### Vectorizing, normalizing, and applying PCA to reduce the dimensionality"
   ]
  },
  {
   "cell_type": "markdown",
   "metadata": {},
   "source": [
    "#### Extract features from text using bag of words - CountVectorizer"
   ]
  },
  {
   "cell_type": "code",
   "execution_count": 9,
   "metadata": {},
   "outputs": [],
   "source": [
    "# Implementing KMeans\n",
    "from sklearn.cluster import KMeans\n",
    "from sklearn.decomposition import PCA\n",
    "from sklearn.preprocessing import normalize\n",
    "from sklearn.metrics import pairwise_distances\n",
    "from sklearn.feature_extraction.text import CountVectorizer"
   ]
  },
  {
   "cell_type": "code",
   "execution_count": 11,
   "metadata": {},
   "outputs": [],
   "source": [
    "# vectorizng the texts\n",
    "vectorizer = CountVectorizer(stop_words = 'english',max_features=20000)\n",
    "vec = vectorizer.fit_transform(imdb_trimmed.review)\n",
    "\n",
    "# normlaizing the vectorized vector\n",
    "vec_norm = normalize(vec)\n",
    "vec_arr = vec_norm.toarray()\n",
    "\n",
    "#performing PCA to reduce dimensionality\n",
    "vec_pca = PCA(n_components = 2)\n",
    "vec_tranformed = vec_pca.fit_transform(vec_arr)\n",
    "\n",
    "kmeans = KMeans(n_clusters=2, max_iter=1000, algorithm = 'auto')\n",
    "\n",
    "fitted = kmeans.fit(vec_tranformed)\n",
    "prediction = kmeans.predict(vec_tranformed)"
   ]
  },
  {
   "cell_type": "code",
   "execution_count": 12,
   "metadata": {},
   "outputs": [
    {
     "name": "stdout",
     "output_type": "stream",
     "text": [
      "F1 Score : 0.62 and Accuracy 0.55\n"
     ]
    }
   ],
   "source": [
    "from sklearn.metrics import confusion_matrix,classification_report,accuracy_score,f1_score\n",
    "\n",
    "# evaluate the accuracy of the model\n",
    "imdb_trimmed['sentiment_pred_vec'] = pd.Series(prediction)\n",
    "f1 = f1_score(imdb_trimmed['sentiment'],imdb_trimmed['sentiment_pred_vec'],pos_label=1)\n",
    "acc = accuracy_score(imdb_trimmed['sentiment'],imdb_trimmed['sentiment_pred_vec'])\n",
    "\n",
    "print(\"F1 Score : {:.2f} and Accuracy {:.2f}\".format(f1,acc))"
   ]
  },
  {
   "cell_type": "code",
   "execution_count": 13,
   "metadata": {
    "scrolled": true
   },
   "outputs": [
    {
     "data": {
      "text/html": [
       "<div>\n",
       "<style scoped>\n",
       "    .dataframe tbody tr th:only-of-type {\n",
       "        vertical-align: middle;\n",
       "    }\n",
       "\n",
       "    .dataframe tbody tr th {\n",
       "        vertical-align: top;\n",
       "    }\n",
       "\n",
       "    .dataframe thead th {\n",
       "        text-align: right;\n",
       "    }\n",
       "</style>\n",
       "<table border=\"1\" class=\"dataframe\">\n",
       "  <thead>\n",
       "    <tr style=\"text-align: right;\">\n",
       "      <th></th>\n",
       "      <th>killers</th>\n",
       "      <th>killian</th>\n",
       "      <th>killing</th>\n",
       "      <th>killings</th>\n",
       "      <th>killjoy</th>\n",
       "      <th>kills</th>\n",
       "      <th>kilmer</th>\n",
       "      <th>kilter</th>\n",
       "      <th>kim</th>\n",
       "      <th>kimberly</th>\n",
       "    </tr>\n",
       "  </thead>\n",
       "  <tbody>\n",
       "    <tr>\n",
       "      <th>0</th>\n",
       "      <td>0</td>\n",
       "      <td>0</td>\n",
       "      <td>0</td>\n",
       "      <td>0</td>\n",
       "      <td>0</td>\n",
       "      <td>0</td>\n",
       "      <td>0</td>\n",
       "      <td>0</td>\n",
       "      <td>0</td>\n",
       "      <td>0</td>\n",
       "    </tr>\n",
       "    <tr>\n",
       "      <th>1</th>\n",
       "      <td>0</td>\n",
       "      <td>0</td>\n",
       "      <td>0</td>\n",
       "      <td>0</td>\n",
       "      <td>0</td>\n",
       "      <td>0</td>\n",
       "      <td>0</td>\n",
       "      <td>0</td>\n",
       "      <td>0</td>\n",
       "      <td>0</td>\n",
       "    </tr>\n",
       "    <tr>\n",
       "      <th>2</th>\n",
       "      <td>0</td>\n",
       "      <td>0</td>\n",
       "      <td>1</td>\n",
       "      <td>0</td>\n",
       "      <td>0</td>\n",
       "      <td>0</td>\n",
       "      <td>0</td>\n",
       "      <td>0</td>\n",
       "      <td>0</td>\n",
       "      <td>0</td>\n",
       "    </tr>\n",
       "    <tr>\n",
       "      <th>3</th>\n",
       "      <td>0</td>\n",
       "      <td>0</td>\n",
       "      <td>0</td>\n",
       "      <td>0</td>\n",
       "      <td>0</td>\n",
       "      <td>0</td>\n",
       "      <td>0</td>\n",
       "      <td>0</td>\n",
       "      <td>0</td>\n",
       "      <td>0</td>\n",
       "    </tr>\n",
       "    <tr>\n",
       "      <th>4</th>\n",
       "      <td>0</td>\n",
       "      <td>0</td>\n",
       "      <td>0</td>\n",
       "      <td>0</td>\n",
       "      <td>0</td>\n",
       "      <td>0</td>\n",
       "      <td>0</td>\n",
       "      <td>0</td>\n",
       "      <td>0</td>\n",
       "      <td>0</td>\n",
       "    </tr>\n",
       "    <tr>\n",
       "      <th>5</th>\n",
       "      <td>0</td>\n",
       "      <td>0</td>\n",
       "      <td>0</td>\n",
       "      <td>0</td>\n",
       "      <td>0</td>\n",
       "      <td>0</td>\n",
       "      <td>0</td>\n",
       "      <td>0</td>\n",
       "      <td>0</td>\n",
       "      <td>0</td>\n",
       "    </tr>\n",
       "    <tr>\n",
       "      <th>6</th>\n",
       "      <td>0</td>\n",
       "      <td>0</td>\n",
       "      <td>0</td>\n",
       "      <td>0</td>\n",
       "      <td>0</td>\n",
       "      <td>0</td>\n",
       "      <td>0</td>\n",
       "      <td>0</td>\n",
       "      <td>0</td>\n",
       "      <td>0</td>\n",
       "    </tr>\n",
       "    <tr>\n",
       "      <th>7</th>\n",
       "      <td>0</td>\n",
       "      <td>0</td>\n",
       "      <td>0</td>\n",
       "      <td>0</td>\n",
       "      <td>0</td>\n",
       "      <td>0</td>\n",
       "      <td>0</td>\n",
       "      <td>0</td>\n",
       "      <td>0</td>\n",
       "      <td>0</td>\n",
       "    </tr>\n",
       "    <tr>\n",
       "      <th>8</th>\n",
       "      <td>0</td>\n",
       "      <td>0</td>\n",
       "      <td>0</td>\n",
       "      <td>0</td>\n",
       "      <td>0</td>\n",
       "      <td>0</td>\n",
       "      <td>0</td>\n",
       "      <td>0</td>\n",
       "      <td>0</td>\n",
       "      <td>0</td>\n",
       "    </tr>\n",
       "    <tr>\n",
       "      <th>9</th>\n",
       "      <td>0</td>\n",
       "      <td>0</td>\n",
       "      <td>0</td>\n",
       "      <td>0</td>\n",
       "      <td>0</td>\n",
       "      <td>0</td>\n",
       "      <td>0</td>\n",
       "      <td>0</td>\n",
       "      <td>0</td>\n",
       "      <td>0</td>\n",
       "    </tr>\n",
       "  </tbody>\n",
       "</table>\n",
       "</div>"
      ],
      "text/plain": [
       "   killers  killian  killing  killings  killjoy  kills  kilmer  kilter  kim  \\\n",
       "0        0        0        0         0        0      0       0       0    0   \n",
       "1        0        0        0         0        0      0       0       0    0   \n",
       "2        0        0        1         0        0      0       0       0    0   \n",
       "3        0        0        0         0        0      0       0       0    0   \n",
       "4        0        0        0         0        0      0       0       0    0   \n",
       "5        0        0        0         0        0      0       0       0    0   \n",
       "6        0        0        0         0        0      0       0       0    0   \n",
       "7        0        0        0         0        0      0       0       0    0   \n",
       "8        0        0        0         0        0      0       0       0    0   \n",
       "9        0        0        0         0        0      0       0       0    0   \n",
       "\n",
       "   kimberly  \n",
       "0         0  \n",
       "1         0  \n",
       "2         0  \n",
       "3         0  \n",
       "4         0  \n",
       "5         0  \n",
       "6         0  \n",
       "7         0  \n",
       "8         0  \n",
       "9         0  "
      ]
     },
     "execution_count": 13,
     "metadata": {},
     "output_type": "execute_result"
    }
   ],
   "source": [
    "# visualizing the sparse matrix\n",
    "i = 10000\n",
    "j = 10\n",
    "words = vectorizer.get_feature_names()[i:i+10]\n",
    "pd.DataFrame(vec[j:j+10,i:i+10].todense(), columns=words)"
   ]
  },
  {
   "cell_type": "code",
   "execution_count": 14,
   "metadata": {},
   "outputs": [
    {
     "data": {
      "text/plain": [
       "1    32780\n",
       "0    16802\n",
       "Name: sentiment_pred_vec, dtype: int64"
      ]
     },
     "execution_count": 14,
     "metadata": {},
     "output_type": "execute_result"
    }
   ],
   "source": [
    "imdb_trimmed['sentiment_pred_vec'].value_counts()"
   ]
  },
  {
   "cell_type": "markdown",
   "metadata": {},
   "source": [
    "#### Extract features from text using bag of words - TfidfVectorizer"
   ]
  },
  {
   "cell_type": "code",
   "execution_count": 15,
   "metadata": {},
   "outputs": [],
   "source": [
    "# applying the KMeans with tf-idf \n",
    "from sklearn.feature_extraction.text import TfidfVectorizer\n",
    "\n",
    "vectorizer_tf_idf = TfidfVectorizer(stop_words = 'english',max_features=20000)\n",
    "vec_tf_idf = vectorizer_tf_idf.fit_transform(imdb_trimmed.review)\n",
    "\n",
    "vec_norm_tf_idf = normalize(vec_tf_idf)\n",
    "vec_arr_tf_idf = vec_norm_tf_idf.toarray()\n",
    "\n",
    "vec_pca_tf_idf = PCA(n_components = 2)\n",
    "vec_tranformed_tf_idf = vec_pca_tf_idf.fit_transform(vec_arr_tf_idf)\n",
    "\n",
    "kmeans = KMeans(n_clusters=2, max_iter=1000, algorithm = 'auto')\n",
    "\n",
    "fitted_tf_idf = kmeans.fit(vec_tranformed_tf_idf)\n",
    "prediction_tf_idf = kmeans.predict(vec_tranformed_tf_idf)"
   ]
  },
  {
   "cell_type": "code",
   "execution_count": 16,
   "metadata": {},
   "outputs": [
    {
     "name": "stdout",
     "output_type": "stream",
     "text": [
      "F1 Score : 0.34 and Accuracy 0.45\n"
     ]
    }
   ],
   "source": [
    "imdb_trimmed['sentiment_pred_tf_idf'] = pd.Series(prediction_tf_idf)\n",
    "f1 = f1_score(imdb_trimmed['sentiment'],imdb_trimmed['sentiment_pred_tf_idf'],pos_label=1)\n",
    "acc = accuracy_score(imdb_trimmed['sentiment'],imdb_trimmed['sentiment_pred_tf_idf'])\n",
    "\n",
    "print(\"F1 Score : {:.2f} and Accuracy {:.2f}\".format(f1,acc))"
   ]
  },
  {
   "cell_type": "markdown",
   "metadata": {},
   "source": [
    "## Optimizing parameters"
   ]
  },
  {
   "cell_type": "markdown",
   "metadata": {},
   "source": [
    "### Testing combination of different models - 27 cases"
   ]
  },
  {
   "cell_type": "markdown",
   "metadata": {},
   "source": [
    "In order to tune hyperparameters, created a function to apply changing parameters and resulting different models. Three parameters that can be changed are max_iter, max_features, min_df=1"
   ]
  },
  {
   "cell_type": "code",
   "execution_count": 14,
   "metadata": {},
   "outputs": [],
   "source": [
    "def model_param_vec(max_iter=1000, max_features=None, min_df=1):\n",
    "  vectorizer = CountVectorizer(max_features=max_features, min_df=min_df)\n",
    "  features = vectorizer.fit_transform(imdb_trimmed.review)\n",
    "  model = KMeans(n_clusters=2, max_iter=max_iter, algorithm = 'auto')\n",
    "  model.fit(features)\n",
    "  pred = model.predict(features)\n",
    "  return pred, {\n",
    "    \"max_features\": max_features,\n",
    "    \"min_df\": min_df,\n",
    "    \"max_iter\": max_iter,\n",
    "    \"auc\": roc_auc_score(imdb_trimmed.sentiment, pred)\n",
    "  }"
   ]
  },
  {
   "cell_type": "code",
   "execution_count": 31,
   "metadata": {},
   "outputs": [],
   "source": [
    "from sklearn.metrics import roc_auc_score\n",
    "def model_param_tf_id(max_iter=1000, max_features=None, min_df=1):\n",
    "  vectorizer = TfidfVectorizer(max_features=max_features, min_df=min_df)\n",
    "  features = vectorizer.fit_transform(imdb_trimmed.review)\n",
    "  model = KMeans(n_clusters=2, max_iter=max_iter, algorithm = 'auto')\n",
    "  model.fit(features)\n",
    "  pred = model.predict(features)\n",
    "  return {\n",
    "    \"max_features\": max_features,\n",
    "    \"min_df\": min_df,\n",
    "    \"max_iter\": max_iter,\n",
    "    \"auc\": roc_auc_score(imdb_trimmed.sentiment, pred),\n",
    "    \"acc\": accuracy_score(imdb_trimmed.sentiment, pred)\n",
    "  }"
   ]
  },
  {
   "cell_type": "code",
   "execution_count": 19,
   "metadata": {},
   "outputs": [],
   "source": [
    "from itertools import product\n",
    "params = {\n",
    "  \"max_features\": [10000, 50000, None],\n",
    "  \"min_df\": [1,2,3],\n",
    "  \"max_iter\": [1000, 2000, 3000]\n",
    "}"
   ]
  },
  {
   "cell_type": "code",
   "execution_count": 20,
   "metadata": {},
   "outputs": [
    {
     "name": "stdout",
     "output_type": "stream",
     "text": [
      "{'max_features': 10000, 'min_df': 1, 'max_iter': 1000, 'auc': 0.4903883259558459}\n",
      "{'max_features': 10000, 'min_df': 1, 'max_iter': 2000, 'auc': 0.5096116740441541}\n",
      "{'max_features': 10000, 'min_df': 1, 'max_iter': 3000, 'auc': 0.5096116740441541}\n",
      "{'max_features': 10000, 'min_df': 2, 'max_iter': 1000, 'auc': 0.5096116740441541}\n",
      "{'max_features': 10000, 'min_df': 2, 'max_iter': 2000, 'auc': 0.5096116740441541}\n",
      "{'max_features': 10000, 'min_df': 2, 'max_iter': 3000, 'auc': 0.5096116740441541}\n",
      "{'max_features': 10000, 'min_df': 3, 'max_iter': 1000, 'auc': 0.5096116740441541}\n",
      "{'max_features': 10000, 'min_df': 3, 'max_iter': 2000, 'auc': 0.4903883259558459}\n",
      "{'max_features': 10000, 'min_df': 3, 'max_iter': 3000, 'auc': 0.5096116740441541}\n",
      "{'max_features': 50000, 'min_df': 1, 'max_iter': 1000, 'auc': 0.5096116740441541}\n",
      "{'max_features': 50000, 'min_df': 1, 'max_iter': 2000, 'auc': 0.5096116740441541}\n",
      "{'max_features': 50000, 'min_df': 1, 'max_iter': 3000, 'auc': 0.5096116740441541}\n",
      "{'max_features': 50000, 'min_df': 2, 'max_iter': 1000, 'auc': 0.5096116740441541}\n",
      "{'max_features': 50000, 'min_df': 2, 'max_iter': 2000, 'auc': 0.5096116740441541}\n",
      "{'max_features': 50000, 'min_df': 2, 'max_iter': 3000, 'auc': 0.5096116740441541}\n",
      "{'max_features': 50000, 'min_df': 3, 'max_iter': 1000, 'auc': 0.5096116740441541}\n",
      "{'max_features': 50000, 'min_df': 3, 'max_iter': 2000, 'auc': 0.4903883259558459}\n",
      "{'max_features': 50000, 'min_df': 3, 'max_iter': 3000, 'auc': 0.5096116740441541}\n",
      "{'max_features': None, 'min_df': 1, 'max_iter': 1000, 'auc': 0.5096116740441541}\n",
      "{'max_features': None, 'min_df': 1, 'max_iter': 2000, 'auc': 0.4903883259558459}\n",
      "{'max_features': None, 'min_df': 1, 'max_iter': 3000, 'auc': 0.5096116740441541}\n",
      "{'max_features': None, 'min_df': 2, 'max_iter': 1000, 'auc': 0.5096116740441541}\n",
      "{'max_features': None, 'min_df': 2, 'max_iter': 2000, 'auc': 0.4903883259558459}\n",
      "{'max_features': None, 'min_df': 2, 'max_iter': 3000, 'auc': 0.5096116740441541}\n",
      "{'max_features': None, 'min_df': 3, 'max_iter': 1000, 'auc': 0.5096116740441541}\n",
      "{'max_features': None, 'min_df': 3, 'max_iter': 2000, 'auc': 0.5096116740441541}\n",
      "{'max_features': None, 'min_df': 3, 'max_iter': 3000, 'auc': 0.5096116740441541}\n"
     ]
    }
   ],
   "source": [
    "results_vec = []\n",
    "for p in product(*params.values()):\n",
    "  res = model_param_vec(**dict(zip(params.keys(), p)))\n",
    "  results_vec.append( res )\n",
    "  print (res)\n"
   ]
  },
  {
   "cell_type": "code",
   "execution_count": 21,
   "metadata": {},
   "outputs": [
    {
     "name": "stdout",
     "output_type": "stream",
     "text": [
      "{'max_features': 10000, 'min_df': 1, 'max_iter': 1000, 'auc': 0.49531398447725294}\n",
      "{'max_features': 10000, 'min_df': 1, 'max_iter': 2000, 'auc': 0.5046860155227471}\n",
      "{'max_features': 10000, 'min_df': 1, 'max_iter': 3000, 'auc': 0.49515081747060835}\n",
      "{'max_features': 10000, 'min_df': 2, 'max_iter': 1000, 'auc': 0.5025183350055945}\n",
      "{'max_features': 10000, 'min_df': 2, 'max_iter': 2000, 'auc': 0.5043395882768587}\n",
      "{'max_features': 10000, 'min_df': 2, 'max_iter': 3000, 'auc': 0.5025184863272101}\n",
      "{'max_features': 10000, 'min_df': 3, 'max_iter': 1000, 'auc': 0.5034278267291091}\n",
      "{'max_features': 10000, 'min_df': 3, 'max_iter': 2000, 'auc': 0.5035899344844441}\n",
      "{'max_features': 10000, 'min_df': 3, 'max_iter': 3000, 'auc': 0.5045645481974576}\n",
      "{'max_features': 50000, 'min_df': 1, 'max_iter': 1000, 'auc': 0.4569050096879027}\n",
      "{'max_features': 50000, 'min_df': 1, 'max_iter': 2000, 'auc': 0.4573154671296974}\n",
      "{'max_features': 50000, 'min_df': 1, 'max_iter': 3000, 'auc': 0.4587581267355044}\n",
      "{'max_features': 50000, 'min_df': 2, 'max_iter': 1000, 'auc': 0.5430465137003206}\n",
      "{'max_features': 50000, 'min_df': 2, 'max_iter': 2000, 'auc': 0.4587720157818617}\n",
      "{'max_features': 50000, 'min_df': 2, 'max_iter': 3000, 'auc': 0.45693339306708014}\n",
      "{'max_features': 50000, 'min_df': 3, 'max_iter': 1000, 'auc': 0.45884845435025173}\n",
      "{'max_features': 50000, 'min_df': 3, 'max_iter': 2000, 'auc': 0.45896977035392555}\n",
      "{'max_features': 50000, 'min_df': 3, 'max_iter': 3000, 'auc': 0.4588490596367143}\n",
      "{'max_features': None, 'min_df': 1, 'max_iter': 1000, 'auc': 0.5425511111373764}\n",
      "{'max_features': None, 'min_df': 1, 'max_iter': 2000, 'auc': 0.5430431846247762}\n",
      "{'max_features': None, 'min_df': 1, 'max_iter': 3000, 'auc': 0.4572846626046695}\n",
      "{'max_features': None, 'min_df': 2, 'max_iter': 1000, 'auc': 0.5427567344334543}\n",
      "{'max_features': None, 'min_df': 2, 'max_iter': 2000, 'auc': 0.5427772816309004}\n",
      "{'max_features': None, 'min_df': 2, 'max_iter': 3000, 'auc': 0.45726335879914504}\n",
      "{'max_features': None, 'min_df': 3, 'max_iter': 1000, 'auc': 0.5419554262753343}\n",
      "{'max_features': None, 'min_df': 3, 'max_iter': 2000, 'auc': 0.45854493735864366}\n",
      "{'max_features': None, 'min_df': 3, 'max_iter': 3000, 'auc': 0.4576865272566547}\n"
     ]
    }
   ],
   "source": [
    "results_tf_id = []\n",
    "for p in product(*params.values()):\n",
    "  res = model_param_tf_id(**dict(zip(params.keys(), p)))\n",
    "  results_tf_id.append( res )\n",
    "  print (res)"
   ]
  },
  {
   "cell_type": "markdown",
   "metadata": {},
   "source": [
    "### Performing TfidfVectorizer - NO PCA - Optimized parameters of max_features=None and min_df=2"
   ]
  },
  {
   "cell_type": "code",
   "execution_count": 32,
   "metadata": {},
   "outputs": [
    {
     "name": "stdout",
     "output_type": "stream",
     "text": [
      "{'max_features': None, 'min_df': 2, 'max_iter': 1000, 'auc': 0.5428380152935453, 'acc': 0.542999475616151}\n"
     ]
    }
   ],
   "source": [
    "from itertools import product\n",
    "params = {\n",
    "  \"max_features\": [None],\n",
    "  \"min_df\": [2],\n",
    "  \"max_iter\": [1000]\n",
    "}\n",
    "results_tf_id = []\n",
    "for p in product(*params.values()):\n",
    "  res = model_param_tf_id(**dict(zip(params.keys(), p)))\n",
    "  results_tf_id.append( res )\n",
    "  print (res)"
   ]
  },
  {
   "cell_type": "code",
   "execution_count": 13,
   "metadata": {},
   "outputs": [],
   "source": [
    "# applying the KMeans with tf-idf _ not performing PCA \n",
    "from sklearn.feature_extraction.text import TfidfVectorizer\n",
    "\n",
    "vectorizer_tf_idf = TfidfVectorizer(stop_words = 'english',max_features=None, min_df=2)\n",
    "vec_tf_idf = vectorizer_tf_idf.fit_transform(imdb_trimmed.review)\n",
    "\n",
    "kmeans = KMeans(n_clusters=2, max_iter=1000, algorithm = 'auto')\n",
    "\n",
    "fitted_tf_idf = kmeans.fit(vec_tf_idf)\n",
    "prediction_tf_idf = kmeans.predict(vec_tf_idf)"
   ]
  },
  {
   "cell_type": "code",
   "execution_count": 15,
   "metadata": {},
   "outputs": [
    {
     "name": "stdout",
     "output_type": "stream",
     "text": [
      "F1 Score : 0.65 and Accuracy 0.57\n"
     ]
    }
   ],
   "source": [
    "from sklearn.metrics import confusion_matrix,classification_report,accuracy_score,f1_score\n",
    "\n",
    "imdb_trimmed['sentiment_pred_tf_idf'] = pd.Series(prediction_tf_idf)\n",
    "f1 = f1_score(imdb_trimmed['sentiment'],imdb_trimmed['sentiment_pred_tf_idf'],pos_label=1)\n",
    "acc = accuracy_score(imdb_trimmed['sentiment'],imdb_trimmed['sentiment_pred_tf_idf'])\n",
    "\n",
    "print(\"F1 Score : {:.2f} and Accuracy {:.2f}\".format(f1,acc))"
   ]
  },
  {
   "cell_type": "markdown",
   "metadata": {},
   "source": [
    "### Visulizing the results of TfidfVectorizer with optimal parameters"
   ]
  },
  {
   "cell_type": "code",
   "execution_count": 18,
   "metadata": {},
   "outputs": [],
   "source": [
    "vec_arr_tf_idf = vec_tf_idf.toarray()"
   ]
  },
  {
   "cell_type": "code",
   "execution_count": 19,
   "metadata": {},
   "outputs": [],
   "source": [
    "def top_cluster(vec_arr, prediction, number_features):\n",
    "    labels = np.unique(prediction)\n",
    "    data = []\n",
    "    for label in labels:\n",
    "        idx = np.where(prediction==label)\n",
    "        xmeans = np.mean(vec_arr[idx], axis = 0)\n",
    "        meanavg = np.argsort(xmeans)[::-1][:number_features]\n",
    "        features = vectorizer_tf_idf.get_feature_names()\n",
    "        best_features = [(features[i], xmeans[i]) for i in meanavg]\n",
    "        df = pd.DataFrame(best_features, columns = ['features', 'score'])\n",
    "        data.append(df)\n",
    "    return data\n",
    "words = top_cluster(vec_arr_tf_idf, prediction_tf_idf, 10)"
   ]
  },
  {
   "cell_type": "code",
   "execution_count": 20,
   "metadata": {},
   "outputs": [
    {
     "data": {
      "image/png": "[encoded data removed]",
      "text/plain": [
       "<Figure size 576x432 with 1 Axes>"
      ]
     },
     "metadata": {
      "needs_background": "light"
     },
     "output_type": "display_data"
    }
   ],
   "source": [
    "import seaborn as sns\n",
    "plt.figure(figsize=(8,6))\n",
    "sns.barplot(x = 'score' , y = 'features', orient = 'h' , data = words[0][:15]);\n",
    "plt.title(\"Cluster: \"+ str(0), fontsize = 14);"
   ]
  },
  {
   "cell_type": "code",
   "execution_count": 21,
   "metadata": {},
   "outputs": [
    {
     "data": {
      "image/png": "[encoded data removed]",
      "text/plain": [
       "<Figure size 576x432 with 1 Axes>"
      ]
     },
     "metadata": {
      "needs_background": "light"
     },
     "output_type": "display_data"
    }
   ],
   "source": [
    "plt.figure(figsize=(8,6))\n",
    "sns.barplot(x = 'score' , y = 'features', orient = 'h' , data = words[1][:15]);\n",
    "plt.title(\"Cluster: \"+ str(1), fontsize = 14);"
   ]
  },
  {
   "cell_type": "code",
   "execution_count": null,
   "metadata": {},
   "outputs": [],
   "source": []
  }
 ],
 "metadata": {
  "kernelspec": {
   "display_name": "Python 3",
   "language": "python",
   "name": "python3"
  },
  "language_info": {
   "codemirror_mode": {
    "name": "ipython",
    "version": 3
   },
   "file_extension": ".py",
   "mimetype": "text/x-python",
   "name": "python",
   "nbconvert_exporter": "python",
   "pygments_lexer": "ipython3",
   "version": "3.8.3"
  }
 },
 "nbformat": 4,
 "nbformat_minor": 4
}
